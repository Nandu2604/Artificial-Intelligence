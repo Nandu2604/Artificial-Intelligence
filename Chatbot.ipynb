{
  "nbformat": 4,
  "nbformat_minor": 0,
  "metadata": {
    "colab": {
      "provenance": [],
      "authorship_tag": "ABX9TyNo5f16tsHv/p8GcJTkOvyb",
      "include_colab_link": true
    },
    "kernelspec": {
      "name": "python3",
      "display_name": "Python 3"
    },
    "language_info": {
      "name": "python"
    }
  },
  "cells": [
    {
      "cell_type": "markdown",
      "metadata": {
        "id": "view-in-github",
        "colab_type": "text"
      },
      "source": [
        "<a href=\"https://colab.research.google.com/github/Nandu2604/AspireNex/blob/main/Chatbot.ipynb\" target=\"_parent\"><img src=\"https://colab.research.google.com/assets/colab-badge.svg\" alt=\"Open In Colab\"/></a>"
      ]
    },
    {
      "cell_type": "code",
      "execution_count": 1,
      "metadata": {
        "colab": {
          "base_uri": "https://localhost:8080/"
        },
        "id": "tOhGw5YsbHU5",
        "outputId": "0ab7485b-378d-4cc1-f91b-34168e43804e"
      },
      "outputs": [
        {
          "output_type": "stream",
          "name": "stdout",
          "text": [
            "You: hello\n",
            "Bot: Hi there! How can I help you?\n",
            "You: how are you\n",
            "Bot: Doing Great,thanks!\n",
            "You: can u tell me a joke\n",
            "Bot: what is the most shocking city in the world???\n",
            "Electricity\n",
            "You: another joke\n",
            "Bot: Sorry, I didn't understand that.\n",
            "You: thank u\n",
            "Bot: You're welcome!\n",
            "You: bye\n",
            "Bot: Goodbye,Have a nice day\n"
          ]
        }
      ],
      "source": [
        "import re\n",
        "def chatbot(input):\n",
        "    input = input.lower()\n",
        "    if \"hello\" in input or \"hi\" in input:\n",
        "        return \"Hi there! How can I help you?\"\n",
        "    elif re.match(r\"(.*)are you(.*)\", input):\n",
        "        return \"Doing Great,thanks!\"\n",
        "    elif re.match(r\"(.*)a joke\",input):\n",
        "        return \"what is the most shocking city in the world???\\nElectricity\"\n",
        "    elif \"thanks\" in input or \"thank you\" in input or \"thank u\" in input:\n",
        "        return \"You're welcome!\"\n",
        "    else:\n",
        "        return \"Sorry, I didn't understand that.\"\n",
        "\n",
        "while True:\n",
        "    user_input = input(\"You: \")\n",
        "    if user_input.lower() == 'bye'or user_input.lower()=='see you':\n",
        "        print(\"Bot: Goodbye,Have a nice day\")\n",
        "        break\n",
        "    else:\n",
        "        respond = chatbot(user_input)\n",
        "        print(\"Bot:\", respond)"
      ]
    }
  ]
}