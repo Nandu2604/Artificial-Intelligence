{
  "nbformat": 4,
  "nbformat_minor": 0,
  "metadata": {
    "colab": {
      "provenance": [],
      "authorship_tag": "ABX9TyPsU7yrcqY7YoF1kW/9gKc2",
      "include_colab_link": true
    },
    "kernelspec": {
      "name": "python3",
      "display_name": "Python 3"
    },
    "language_info": {
      "name": "python"
    }
  },
  "cells": [
    {
      "cell_type": "markdown",
      "metadata": {
        "id": "view-in-github",
        "colab_type": "text"
      },
      "source": [
        "<a href=\"https://colab.research.google.com/github/Nandu2604/AspireNex/blob/main/Chatbot.ipynb\" target=\"_parent\"><img src=\"https://colab.research.google.com/assets/colab-badge.svg\" alt=\"Open In Colab\"/></a>"
      ]
    },
    {
      "cell_type": "code",
      "source": [
        "import re\n",
        "\n",
        "user_name = None\n",
        "\n",
        "def chatbot(user_input):\n",
        "    global user_name\n",
        "    user_input = user_input.lower()\n",
        "    if \"my name is\" in user_input:\n",
        "        user_name = user_input.split(\"my name is\")[1].strip()\n",
        "        return f\"Nice to meet you, {user_name}!\"\n",
        "    elif \"hello\" in user_input or \"hi\" in user_input:\n",
        "        if user_name:\n",
        "            return f\"Hi there, {user_name}! How can I help you?\"\n",
        "        else:\n",
        "            return \"Hi there! How can I help you?\"\n",
        "    elif re.match(r\"(.*)are you(.*)\", user_input):\n",
        "        return \"Doing great, thanks!\"\n",
        "    elif re.match(r\"(.*)a joke(.*)\", user_input):\n",
        "        return \"What is the most shocking city in the world?\\nElectricity!\"\n",
        "    elif \"thanks\" in user_input or \"thank you\" in user_input or \"thank u\" in user_input:\n",
        "        return \"You're welcome!\"\n",
        "    else:\n",
        "        return \"Sorry, I didn't understand that.\"\n",
        "\n",
        "while True:\n",
        "    user_input = input(\"You: \")\n",
        "    if user_input.lower() == 'bye' or user_input.lower() == 'see you':\n",
        "        print(\"Bot: Goodbye, have a nice day!\")\n",
        "        break\n",
        "    else:\n",
        "        response = chatbot(user_input)\n",
        "        print(\"Bot:\", response)\n"
      ],
      "metadata": {
        "colab": {
          "base_uri": "https://localhost:8080/"
        },
        "id": "fbvKBcSrdpNq",
        "outputId": "93f5134c-1f0a-4d8b-8518-a708dd88a41d"
      },
      "execution_count": 2,
      "outputs": [
        {
          "output_type": "stream",
          "name": "stdout",
          "text": [
            "You: My name is Nandini\n",
            "Bot: Nice to meet you, nandini!\n",
            "You: hello\n",
            "Bot: Hi there, nandini! How can I help you?\n",
            "You: how are you\n",
            "Bot: Doing great, thanks!\n",
            "You: can you tell me a joke?\n",
            "Bot: What is the most shocking city in the world?\n",
            "Electricity!\n",
            "You: thank u\n",
            "Bot: You're welcome!\n",
            "You: see you\n",
            "Bot: Goodbye, have a nice day!\n"
          ]
        }
      ]
    }
  ]
}