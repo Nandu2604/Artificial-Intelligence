{
  "nbformat": 4,
  "nbformat_minor": 0,
  "metadata": {
    "colab": {
      "provenance": [],
      "authorship_tag": "ABX9TyPSI0HS49+Qi7e4WgKZ0jCq",
      "include_colab_link": true
    },
    "kernelspec": {
      "name": "python3",
      "display_name": "Python 3"
    },
    "language_info": {
      "name": "python"
    }
  },
  "cells": [
    {
      "cell_type": "markdown",
      "metadata": {
        "id": "view-in-github",
        "colab_type": "text"
      },
      "source": [
        "<a href=\"https://colab.research.google.com/github/Nandu2604/Artificial-Intelligence/blob/main/TicTacToe.ipynb\" target=\"_parent\"><img src=\"https://colab.research.google.com/assets/colab-badge.svg\" alt=\"Open In Colab\"/></a>"
      ]
    },
    {
      "cell_type": "code",
      "execution_count": 1,
      "metadata": {
        "colab": {
          "base_uri": "https://localhost:8080/"
        },
        "id": "0nptjZ7sFlpD",
        "outputId": "7cbce43d-dc36-41cd-dba7-69c49e535c22"
      },
      "outputs": [
        {
          "output_type": "stream",
          "name": "stdout",
          "text": [
            "  |   |  \n",
            "---------\n",
            "  |   |  \n",
            "---------\n",
            "  |   |  \n"
          ]
        }
      ],
      "source": [
        "import math\n",
        "board = [None] * 9\n",
        "\n",
        "def print_board(board):\n",
        "    for i in range(3):\n",
        "        print(\" | \".join([board[j] if board[j] is not None else \" \" for j in range(i*3, (i+1)*3)]))\n",
        "        if i < 2:\n",
        "            print(\"---------\")\n",
        "\n",
        "print_board(board)\n"
      ]
    },
    {
      "cell_type": "code",
      "source": [
        "def player_move(board, position, player_name):\n",
        "    index = position - 1\n",
        "    if board[index] is None:\n",
        "        board[index] = 'X'\n",
        "        return True\n",
        "    else:\n",
        "        return False\n"
      ],
      "metadata": {
        "id": "y5eciXOaFrKq"
      },
      "execution_count": 2,
      "outputs": []
    },
    {
      "cell_type": "code",
      "source": [
        "def minimax(board, depth, is_maximizing, alpha, beta):\n",
        "    scores = {'X': -1, 'O': 1, 'draw': 0}\n",
        "    result = check_winner(board)\n",
        "    if result is not None:\n",
        "        return scores[result]\n",
        "\n",
        "    if is_maximizing:\n",
        "        best_score = -math.inf\n",
        "        for i in range(9):\n",
        "            if board[i] is None:\n",
        "                board[i] = 'O'\n",
        "                score = minimax(board, depth + 1, False, alpha, beta)\n",
        "                board[i] = None\n",
        "                best_score = max(score, best_score)\n",
        "                alpha = max(alpha, score)\n",
        "                if beta <= alpha:\n",
        "                    break\n",
        "        return best_score\n",
        "    else:\n",
        "        best_score = math.inf\n",
        "        for i in range(9):\n",
        "            if board[i] is None:\n",
        "                board[i] = 'X'\n",
        "                score = minimax(board, depth + 1, True, alpha, beta)\n",
        "                board[i] = None\n",
        "                best_score = min(score, best_score)\n",
        "                beta = min(beta, score)\n",
        "                if beta <= alpha:\n",
        "                    break\n",
        "        return best_score\n",
        "\n",
        "# AI player move\n",
        "def sifra_move(board):\n",
        "    best_score = -math.inf\n",
        "    best_move = None\n",
        "    for i in range(9):\n",
        "        if board[i] is None:\n",
        "            board[i] = 'O'\n",
        "            score = minimax(board, 0, False, -math.inf, math.inf)\n",
        "            board[i] = None\n",
        "            if score > best_score:\n",
        "                best_score = score\n",
        "                best_move = i\n",
        "    board[best_move] = 'O'\n",
        "\n"
      ],
      "metadata": {
        "id": "YVeBrR1U_U6J"
      },
      "execution_count": 3,
      "outputs": []
    },
    {
      "cell_type": "code",
      "source": [
        "def check_winner(board):\n",
        "    win_conditions = [\n",
        "        [0, 1, 2], [3, 4, 5], [6, 7, 8],\n",
        "        [0, 3, 6], [1, 4, 7], [2, 5, 8],\n",
        "        [0, 4, 8], [2, 4, 6]\n",
        "    ]\n",
        "    for condition in win_conditions:\n",
        "        if board[condition[0]] == board[condition[1]] == board[condition[2]] and board[condition[0]] is not None:\n",
        "            return board[condition[0]]\n",
        "    if all(cell is not None for cell in board):\n",
        "        return 'draw'\n",
        "    return None"
      ],
      "metadata": {
        "id": "6UsrhifRGFeY"
      },
      "execution_count": 5,
      "outputs": []
    },
    {
      "cell_type": "code",
      "source": [
        "def play_game():\n",
        "    player_name = input(\"Enter your name: \")\n",
        "    while True:\n",
        "\n",
        "        print_board(board)\n",
        "        position = int(input(f\"{player_name}, enter your move (1-9): \"))\n",
        "        if 1 <= position <= 9:\n",
        "            if player_move(board, position, player_name):\n",
        "                if check_winner(board) is not None:\n",
        "                    break\n",
        "\n",
        "                sifra_move(board)\n",
        "                if check_winner(board) is not None:\n",
        "                    break\n",
        "            else:\n",
        "                print(\"Invalid move. Try again.\")\n",
        "        else:\n",
        "            print(\"Invalid input. Enter a number between 1 and 9.\")\n",
        "\n",
        "\n",
        "    print_board(board)\n",
        "    result = check_winner(board)\n",
        "    if result == 'X':\n",
        "        print(f\"{player_name}, you win!\")\n",
        "    elif result == 'O':\n",
        "        print(\"Sifra wins!\")\n",
        "    else:\n",
        "        print(\"It's a draw!\")\n",
        "\n",
        "play_game()\n"
      ],
      "metadata": {
        "colab": {
          "base_uri": "https://localhost:8080/"
        },
        "id": "-576guZGGUlw",
        "outputId": "0f4a2589-09e6-4110-a99a-dfa5a6124c8b"
      },
      "execution_count": 6,
      "outputs": [
        {
          "output_type": "stream",
          "name": "stdout",
          "text": [
            "Enter your name: Nandini\n",
            "  |   |  \n",
            "---------\n",
            "  |   |  \n",
            "---------\n",
            "  |   |  \n",
            "Nandini, enter your move (1-9): 9\n",
            "  |   |  \n",
            "---------\n",
            "  | O |  \n",
            "---------\n",
            "  |   | X\n",
            "Nandini, enter your move (1-9): 6\n",
            "  |   | O\n",
            "---------\n",
            "  | O | X\n",
            "---------\n",
            "  |   | X\n",
            "Nandini, enter your move (1-9): 8\n",
            "  |   | O\n",
            "---------\n",
            "  | O | X\n",
            "---------\n",
            "O | X | X\n",
            "Sifra wins!\n"
          ]
        }
      ]
    }
  ]
}